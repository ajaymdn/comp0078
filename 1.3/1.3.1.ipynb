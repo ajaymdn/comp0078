{
 "cells": [
  {
   "cell_type": "code",
   "execution_count": 11,
   "metadata": {},
   "outputs": [],
   "source": [
    "import numpy as np\n",
    "import matplotlib.pyplot as plt\n",
    "import pandas as pd"
   ]
  },
  {
   "cell_type": "code",
   "execution_count": 12,
   "metadata": {},
   "outputs": [],
   "source": [
    "def split_dataset(filepath = \"./Boston-filtered.csv\", testsize = 1/3, random_state = None):\n",
    "    data = pd.read_csv(filepath)\n",
    "\n",
    "    # Randomize the dataset and reset the index, randomstate is used to make the randomization reproducible\n",
    "    data = data.sample(frac=1, random_state=random_state).reset_index(drop=True)\n",
    "\n",
    "    X = data.iloc[:, :-1].values\n",
    "    y = data.iloc[:, -1].values\n",
    "\n",
    "    # Split the dataset into training and test sets\n",
    "    split_index = int(len(data) * (1 - testsize))\n",
    "\n",
    "    X_train = X[:split_index]\n",
    "    y_train = y[:split_index]\n",
    "\n",
    "    X_test = X[split_index:]\n",
    "    y_test = y[split_index:]\n",
    "\n",
    "    return X_train, y_train, X_test, y_test"
   ]
  },
  {
   "cell_type": "code",
   "execution_count": 13,
   "metadata": {},
   "outputs": [],
   "source": [
    "def gausian_kernel(xi, xj, sigma):\n",
    "    return np.exp(-(np.linalg.norm(xi - xj) ** 2) / (2 * (sigma ** 2)))"
   ]
  },
  {
   "cell_type": "code",
   "execution_count": 14,
   "metadata": {},
   "outputs": [],
   "source": [
    "def kernel_ridge_regression(X_train, y_train, gamma, sigma):\n",
    "    K = gausian_kernel(X_train, X_train, sigma)\n",
    "\n",
    "    ell = X_train.shape[0]\n",
    "    I = np.eye(ell)\n",
    "    alpha_star = np.linalg.inv(K + gamma * ell * I) @ y_train\n",
    "\n",
    "    return alpha_star, K"
   ]
  },
  {
   "cell_type": "code",
   "execution_count": null,
   "metadata": {},
   "outputs": [
    {
     "ename": "ValueError",
     "evalue": "matmul: Input operand 0 does not have enough dimensions (has 0, gufunc core with signature (n?,k),(k,m?)->(n?,m?) requires 1)",
     "output_type": "error",
     "traceback": [
      "\u001b[0;31m---------------------------------------------------------------------------\u001b[0m",
      "\u001b[0;31mValueError\u001b[0m                                Traceback (most recent call last)",
      "Cell \u001b[0;32mIn[15], line 11\u001b[0m\n\u001b[1;32m      7\u001b[0m \u001b[38;5;28;01mfor\u001b[39;00m sigma \u001b[38;5;129;01min\u001b[39;00m sigma_values:\n\u001b[1;32m      9\u001b[0m     alpha_star, K \u001b[38;5;241m=\u001b[39m kernel_ridge_regression(X_train, y_train, gamma, sigma)\n\u001b[0;32m---> 11\u001b[0m     y_pred \u001b[38;5;241m=\u001b[39m \u001b[43mK\u001b[49m\u001b[43m \u001b[49m\u001b[38;5;241;43m@\u001b[39;49m\u001b[43m \u001b[49m\u001b[43malpha_star\u001b[49m\n\u001b[1;32m     13\u001b[0m     mse \u001b[38;5;241m=\u001b[39m np\u001b[38;5;241m.\u001b[39mmean((y_pred \u001b[38;5;241m-\u001b[39m y_train) \u001b[38;5;241m*\u001b[39m\u001b[38;5;241m*\u001b[39m \u001b[38;5;241m2\u001b[39m)\n\u001b[1;32m     14\u001b[0m     \u001b[38;5;28mprint\u001b[39m(\u001b[38;5;124mf\u001b[39m\u001b[38;5;124m\"\u001b[39m\u001b[38;5;124mGamma: \u001b[39m\u001b[38;5;132;01m{\u001b[39;00mgamma\u001b[38;5;132;01m}\u001b[39;00m\u001b[38;5;124m, Sigma: \u001b[39m\u001b[38;5;132;01m{\u001b[39;00msigma\u001b[38;5;132;01m}\u001b[39;00m\u001b[38;5;124m, MSE: \u001b[39m\u001b[38;5;132;01m{\u001b[39;00mmse\u001b[38;5;132;01m}\u001b[39;00m\u001b[38;5;124m\"\u001b[39m)\n",
      "\u001b[0;31mValueError\u001b[0m: matmul: Input operand 0 does not have enough dimensions (has 0, gufunc core with signature (n?,k),(k,m?)->(n?,m?) requires 1)"
     ]
    }
   ],
   "source": [
    "gamma_values = [2**(-40 + i) for i in range(15)]\n",
    "sigma_values = [2**(7 + i * 0.5) for i in range(13)]\n",
    "\n",
    "X_train, y_train, X_test, y_test = split_dataset()\n",
    "\n",
    "n = len(y_train)\n",
    "fold_size = n // 5\n",
    "\n",
    "best_gamma = None\n",
    "best_sigma = None\n",
    "best_mse = np.inf\n",
    "\n",
    "for gamma in gamma_values:\n",
    "    for sigma in sigma_values:\n",
    "        mse_vals = []\n",
    "        \n",
    "        for i in range(5):\n",
    "            \n",
    "\n",
    "        "
   ]
  }
 ],
 "metadata": {
  "kernelspec": {
   "display_name": "base",
   "language": "python",
   "name": "python3"
  },
  "language_info": {
   "codemirror_mode": {
    "name": "ipython",
    "version": 3
   },
   "file_extension": ".py",
   "mimetype": "text/x-python",
   "name": "python",
   "nbconvert_exporter": "python",
   "pygments_lexer": "ipython3",
   "version": "3.9.7"
  }
 },
 "nbformat": 4,
 "nbformat_minor": 2
}
